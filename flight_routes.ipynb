{
 "cells": [
  {
   "cell_type": "code",
   "execution_count": 26,
   "metadata": {},
   "outputs": [],
   "source": [
    "from pyflightdata import FlightData\n",
    "import numpy as np\n",
    "import csv"
   ]
  },
  {
   "cell_type": "code",
   "execution_count": 27,
   "metadata": {},
   "outputs": [],
   "source": [
    "f=FlightData()"
   ]
  },
  {
   "cell_type": "code",
   "execution_count": 39,
   "metadata": {},
   "outputs": [
    {
     "name": "stdout",
     "output_type": "stream",
     "text": [
      "100\n"
     ]
    }
   ],
   "source": [
    "a = f.get_airport_departures('KEF',limit=100)\n",
    "print(len(a))"
   ]
  },
  {
   "cell_type": "code",
   "execution_count": 40,
   "metadata": {},
   "outputs": [],
   "source": [
    "def match_iata_code(code,reader):\n",
    "    for row in reader:\n",
    "        if(row['iata_code'] == code):\n",
    "            if row['id']!='326459':   #CDG weirdness\n",
    "                return row['latitude_deg'],row['longitude_deg'],row['name']"
   ]
  },
  {
   "cell_type": "code",
   "execution_count": 41,
   "metadata": {},
   "outputs": [],
   "source": [
    "all_destination_codes = []\n",
    "for i in range(len(a)):\n",
    "    all_destination_codes.append(a[i]['flight']['airport']['destination']['code']['iata'])\n"
   ]
  },
  {
   "cell_type": "code",
   "execution_count": 42,
   "metadata": {},
   "outputs": [
    {
     "name": "stdout",
     "output_type": "stream",
     "text": [
      "{'FRA', 'POZ', 'ZRH', 'DUB', 'MXP', 'EDI', 'CDG', 'SEA', 'BUD', 'TLV', 'BGO', 'DTW', 'JFK', 'GLA', 'CPH', 'OSL', 'DEN', 'EMA', 'MSP', 'WAW', 'BRU', 'BLL', 'YYR', 'EWR', 'YEG', 'HEL', 'ARN', 'SXF', 'TXL', 'RIX', 'BWI', 'ORD', 'DFW', 'VNO', 'CVG', 'TFS', 'LHR', 'HAM', 'STN', 'LAX', 'MCI', 'MAD', 'BOS', 'BCN', 'YYZ', 'IAD', 'LGW', 'MUC', 'CLE', 'GVA', 'YUL', 'AMS', 'DUS', 'WRO', 'SFO', 'ALC', 'ORY'}\n"
     ]
    }
   ],
   "source": [
    "destination_codes = set(all_destination_codes)\n",
    "print(destination_codes)"
   ]
  },
  {
   "cell_type": "code",
   "execution_count": 43,
   "metadata": {},
   "outputs": [
    {
     "name": "stdout",
     "output_type": "stream",
     "text": [
      "FRA\n",
      "POZ\n",
      "ZRH\n",
      "DUB\n",
      "MXP\n",
      "EDI\n",
      "CDG\n",
      "SEA\n",
      "BUD\n",
      "TLV\n",
      "BGO\n",
      "DTW\n",
      "JFK\n",
      "GLA\n",
      "CPH\n",
      "OSL\n",
      "DEN\n",
      "EMA\n",
      "MSP\n",
      "WAW\n",
      "BRU\n",
      "BLL\n",
      "YYR\n",
      "EWR\n",
      "YEG\n",
      "HEL\n",
      "ARN\n",
      "SXF\n",
      "TXL\n",
      "RIX\n",
      "BWI\n",
      "ORD\n",
      "DFW\n",
      "VNO\n",
      "CVG\n",
      "TFS\n",
      "LHR\n",
      "HAM\n",
      "STN\n",
      "LAX\n",
      "MCI\n",
      "MAD\n",
      "BOS\n",
      "BCN\n",
      "YYZ\n",
      "IAD\n",
      "LGW\n",
      "MUC\n",
      "CLE\n",
      "GVA\n",
      "YUL\n",
      "AMS\n",
      "DUS\n",
      "WRO\n",
      "SFO\n",
      "ALC\n",
      "ORY\n"
     ]
    }
   ],
   "source": [
    "code_name_dict = {}\n",
    "code_lat_dict = {}\n",
    "code_lon_dict = {}\n",
    "\n",
    "for code in destination_codes: \n",
    "    with open('airports.csv') as csvfile:\n",
    "        reader = csv.DictReader(csvfile)\n",
    "        print(code)\n",
    "        lat,lon,name = match_iata_code(code,reader)\n",
    "        code_name_dict[code] = name\n",
    "        code_lat_dict[code] = np.float(lat)\n",
    "        code_lon_dict[code] = np.float(lon)\n",
    "\n",
    "\n",
    "        "
   ]
  },
  {
   "cell_type": "code",
   "execution_count": 45,
   "metadata": {},
   "outputs": [
    {
     "name": "stdout",
     "output_type": "stream",
     "text": [
      "EDI 55.95000076293945\n",
      "BGO 60.29339981\n",
      "GLA 55.8718986511\n",
      "CPH 55.617900848389\n",
      "OSL 60.193901062012\n",
      "BLL 55.7402992249\n",
      "HEL 60.317199707031\n",
      "ARN 59.651901245117\n",
      "RIX 56.92359924316406\n"
     ]
    }
   ],
   "source": [
    "for i in destination_codes:\n",
    "    if (code_lat_dict[i] > 55):\n",
    "        print(i,code_lat_dict[i])"
   ]
  },
  {
   "cell_type": "code",
   "execution_count": 37,
   "metadata": {},
   "outputs": [
    {
     "name": "stdout",
     "output_type": "stream",
     "text": [
      "{'GRB', 'LEX', 'RSW', 'DAY', 'STL', 'MDT', 'IND', 'YOW', 'ATW', 'ICN', 'PVD', 'SEA', 'MDW', 'MSN', 'ROC', 'JFK', 'MBS', 'PHL', 'BTV', 'PHX', 'LAN', 'MCO', 'DEN', 'IAH', 'MSP', 'BDL', 'SYR', 'ERI', 'GRR', 'GSP', 'SDF', 'HPN', 'AZO', 'SCE', 'LGA', 'SBN', 'CIU', 'PWM', 'EWR', 'SWF', 'MIA', 'TPA', 'OMA', 'BWI', 'ORD', 'DFW', 'CID', 'CVG', 'BHM', 'MYR', 'CLT', 'LAX', 'MCI', 'SLC', 'APN', 'NGO', 'DCA', 'BOS', 'ORF', 'ELM', 'YYZ', 'BUF', 'PLN', 'PIT', 'MEM', 'SFO', 'NRT', 'CLE', 'CWA', 'ATL', 'MKE', 'LAS', 'BNA', 'TVC', 'CMH'}\n"
     ]
    }
   ],
   "source": []
  },
  {
   "cell_type": "code",
   "execution_count": null,
   "metadata": {},
   "outputs": [],
   "source": []
  }
 ],
 "metadata": {
  "kernelspec": {
   "display_name": "Python 3",
   "language": "python",
   "name": "python3"
  },
  "language_info": {
   "codemirror_mode": {
    "name": "ipython",
    "version": 3
   },
   "file_extension": ".py",
   "mimetype": "text/x-python",
   "name": "python",
   "nbconvert_exporter": "python",
   "pygments_lexer": "ipython3",
   "version": "3.6.5"
  }
 },
 "nbformat": 4,
 "nbformat_minor": 2
}
