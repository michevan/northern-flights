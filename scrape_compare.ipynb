{
 "cells": [
  {
   "cell_type": "code",
   "execution_count": 1,
   "metadata": {},
   "outputs": [
    {
     "data": {
      "text/plain": [
       "'de_DE'"
      ]
     },
     "execution_count": 1,
     "metadata": {},
     "output_type": "execute_result"
    }
   ],
   "source": [
    "#from __future__ import unicode_literals, absolute_import, generators, \\\n",
    "#    print_function\n",
    "\n",
    "import requests\n",
    "from datetime import datetime, timedelta\n",
    "import numpy as np\n",
    "import time\n",
    "import pandas as pd\n",
    "\n",
    "\n",
    "from selenium import webdriver\n",
    "from selenium.webdriver.common.desired_capabilities import DesiredCapabilities\n",
    "from selenium.webdriver.common.by import By\n",
    "from selenium.webdriver.support.ui import WebDriverWait\n",
    "from selenium.webdriver.support import expected_conditions as EC\n",
    "\n",
    "from bs4 import BeautifulSoup\n",
    "\n",
    "import locale\n",
    "import re\n",
    "from urllib.parse import urlencode\n",
    "\n",
    "\n",
    "locale.setlocale(locale.LC_TIME, str('de_DE'))   #necessary for airfinder\n",
    "\n"
   ]
  },
  {
   "cell_type": "code",
   "execution_count": 2,
   "metadata": {},
   "outputs": [],
   "source": [
    "class SkyPickerApi(object):\n",
    "    \"\"\" SkyPicker API. \"\"\"\n",
    "    def __init__(self):\n",
    "        \"\"\" Initializes the API object with URL attributes. \"\"\"\n",
    "        self.base_url = 'https://api.skypicker.com/'\n",
    "        self.path = ''\n",
    "        self.param_str = ''\n",
    "\n",
    "    @property\n",
    "    def full_url(self):\n",
    "        \"\"\" Returns the full URL for requesting the data. \"\"\"\n",
    "        return '{}{}{}'.format(self.base_url, self.path, self.param_str)\n",
    "\n",
    "    def get_request(self):\n",
    "        \"\"\" Requests the API endpoint and returns the response \"\"\"\n",
    "        headers = {'content-type': 'application/json'}\n",
    "        resp = requests.get(self.full_url, headers=headers)\n",
    "        return resp.json()\n",
    "\n",
    "    def search_places(self, place_name, locale=None):\n",
    "        \"\"\" Finds matching place API ids to use for searches.\n",
    "        :param place_name: string of the place name to search for\n",
    "        :kwarg locale: two letter lowercase locale string\n",
    "\n",
    "        returns JSON response\n",
    "        \"\"\"\n",
    "        self.path = 'places'\n",
    "        self.param_str = '?term={}'.format(place_name)\n",
    "        if locale:\n",
    "            self.param_str += '&locale={}'.format(locale)\n",
    "        return self.get_request()\n",
    "\n",
    "    def search_flights(self, origin, destination, start_date, end_date,\n",
    "                       num_passengers):\n",
    "        \"\"\" Searches for flights given a time range and origin and destination.\n",
    "        :param origin: string representing the ID or IATA\n",
    "        :param destination: string representing the ID or IATA\n",
    "        :param start_date: datetime representing first possible travel date\n",
    "        :param end_date: datetime representing last possible travel date\n",
    "        :param num_passengers: integer\n",
    "\n",
    "        returns JSON response\n",
    "        \"\"\"\n",
    "        self.path = 'flights'\n",
    "        self.param_str = '?flyFrom=' + \\\n",
    "            '{}&to={}&dateFrom={}&dateTo={}&passengers={}&curr={}'.format(\n",
    "                origin, destination, start_date.strftime('%d/%m/%Y'),\n",
    "                end_date.strftime('%d/%m/%Y'), num_passengers,'USD')\n",
    "        resp = self.get_request()\n",
    "        flights = []\n",
    "        for flight in resp.get('data'):\n",
    "            flight_info = {\n",
    "                'departure': datetime.utcfromtimestamp(flight.get('dTimeUTC')),\n",
    "                'arrival': datetime.utcfromtimestamp(flight.get('aTimeUTC')),\n",
    "                'price': flight.get('price'),\n",
    "                'currency': resp.get('currency'),\n",
    "                'legs': []\n",
    "            }\n",
    "            flight_info['duration'] = flight_info['arrival'] - \\\n",
    "                flight_info['departure']\n",
    "            flight_info['duration_hours'] = (flight_info[\n",
    "                'duration'].total_seconds() / 60.0) / 60.0\n",
    "            for route in flight['route']:\n",
    "                flight_info['legs'].append({\n",
    "                    'carrier': route['airline'],\n",
    "                    'departure': datetime.utcfromtimestamp(\n",
    "                        route.get('dTimeUTC')),\n",
    "                    'arrival': datetime.utcfromtimestamp(\n",
    "                        route.get('aTimeUTC')),\n",
    "                    'from': '{} ({})'.format(route['cityFrom'],\n",
    "                                             route['flyFrom']),\n",
    "                    'to': '{} ({})'.format(route['cityTo'], route['flyTo']),\n",
    "                })\n",
    "            flight_info['carrier'] = ', '.join(set([c.get('carrier') for c\n",
    "                                                    in flight_info['legs']]))\n",
    "            flights.append(flight_info)\n",
    "        return flights"
   ]
  },
  {
   "cell_type": "code",
   "execution_count": 3,
   "metadata": {},
   "outputs": [],
   "source": [
    "def scrape_skypicker(origin_code,destination_code,delta_t = 7,t_max = 100):\n",
    "    \"\"\"\n",
    "    scrapes skypicker API, searching for the cheapest flight between origin and destination over an\n",
    "    interval of delta_t days, out to a total of t_max days from today\n",
    "    returns:\n",
    "        best_prices - np.array of best_prices with delta_t time resolution\n",
    "        dates - pd.Series of all t_max days considered, matched to the indices in best_prices\n",
    "    \"\"\"\n",
    "    current_date = time.strftime('%m/%d/%Y')\n",
    "    num_adults = 1   #input('number of adults traveling? ')\n",
    "    best_prices = np.zeros(t_max)\n",
    "    dates = pd.date_range(pd.datetime.today(), periods=t_max)\n",
    "    for day_idx in range(t_max):\n",
    "        if np.mod(day_idx,delta_t) != 0:\n",
    "            continue\n",
    "        sp_api = SkyPickerApi()\n",
    "        sp_results = sp_api.search_flights(origin_code, destination_code,\n",
    "                                           datetime.strptime(current_date, '%m/%d/%Y')+timedelta(days=day_idx),\n",
    "                                           datetime.strptime(current_date, '%m/%d/%Y')+timedelta(days=day_idx+delta_t),\n",
    "                                           num_adults)\n",
    "        prices = []\n",
    "        for i in range(len(sp_results)):\n",
    "            try:\n",
    "                price = np.float(sp_results[i]['price'])\n",
    "                prices.append(price)\n",
    "            except:\n",
    "                pass\n",
    "        best_prices[day_idx:day_idx+delta_t] = np.min(prices)\n",
    "    return best_prices,dates\n",
    "\n"
   ]
  },
  {
   "cell_type": "code",
   "execution_count": 4,
   "metadata": {},
   "outputs": [],
   "source": [
    "best_prices,dates = scrape_skypicker('LAX','ORD',delta_t = 7,t_max = 100)"
   ]
  },
  {
   "cell_type": "code",
   "execution_count": 5,
   "metadata": {},
   "outputs": [
    {
     "name": "stdout",
     "output_type": "stream",
     "text": [
      "[ 150.  150.  150.  150.  150.  150.  150.  150.  150.  150.  150.  150.\n",
      "  150.  150.  120.  120.  120.  120.  120.  120.  120.  120.  120.  120.\n",
      "  120.  120.  120.  120.  120.  120.  120.  120.  120.  120.  120.  120.\n",
      "  120.  120.  120.  120.  120.  120.  120.  120.  120.  120.  120.  120.\n",
      "  120.  120.  120.  120.  120.  120.  120.  120.  116.  116.  116.  116.\n",
      "  116.  116.  116.  120.  120.  120.  120.  120.  120.  120.  102.  102.\n",
      "  102.  102.  102.  102.  102.   98.   98.   98.   98.   98.   98.   98.\n",
      "  102.  102.  102.  102.  102.  102.  102.   98.   98.   98.   98.   98.\n",
      "   98.   98.   98.   98.]\n",
      "DatetimeIndex(['2018-06-11 20:41:25.941217', '2018-06-12 20:41:25.941217',\n",
      "               '2018-06-13 20:41:25.941217', '2018-06-14 20:41:25.941217',\n",
      "               '2018-06-15 20:41:25.941217', '2018-06-16 20:41:25.941217',\n",
      "               '2018-06-17 20:41:25.941217', '2018-06-18 20:41:25.941217',\n",
      "               '2018-06-19 20:41:25.941217', '2018-06-20 20:41:25.941217',\n",
      "               '2018-06-21 20:41:25.941217', '2018-06-22 20:41:25.941217',\n",
      "               '2018-06-23 20:41:25.941217', '2018-06-24 20:41:25.941217',\n",
      "               '2018-06-25 20:41:25.941217', '2018-06-26 20:41:25.941217',\n",
      "               '2018-06-27 20:41:25.941217', '2018-06-28 20:41:25.941217',\n",
      "               '2018-06-29 20:41:25.941217', '2018-06-30 20:41:25.941217',\n",
      "               '2018-07-01 20:41:25.941217', '2018-07-02 20:41:25.941217',\n",
      "               '2018-07-03 20:41:25.941217', '2018-07-04 20:41:25.941217',\n",
      "               '2018-07-05 20:41:25.941217', '2018-07-06 20:41:25.941217',\n",
      "               '2018-07-07 20:41:25.941217', '2018-07-08 20:41:25.941217',\n",
      "               '2018-07-09 20:41:25.941217', '2018-07-10 20:41:25.941217',\n",
      "               '2018-07-11 20:41:25.941217', '2018-07-12 20:41:25.941217',\n",
      "               '2018-07-13 20:41:25.941217', '2018-07-14 20:41:25.941217',\n",
      "               '2018-07-15 20:41:25.941217', '2018-07-16 20:41:25.941217',\n",
      "               '2018-07-17 20:41:25.941217', '2018-07-18 20:41:25.941217',\n",
      "               '2018-07-19 20:41:25.941217', '2018-07-20 20:41:25.941217',\n",
      "               '2018-07-21 20:41:25.941217', '2018-07-22 20:41:25.941217',\n",
      "               '2018-07-23 20:41:25.941217', '2018-07-24 20:41:25.941217',\n",
      "               '2018-07-25 20:41:25.941217', '2018-07-26 20:41:25.941217',\n",
      "               '2018-07-27 20:41:25.941217', '2018-07-28 20:41:25.941217',\n",
      "               '2018-07-29 20:41:25.941217', '2018-07-30 20:41:25.941217',\n",
      "               '2018-07-31 20:41:25.941217', '2018-08-01 20:41:25.941217',\n",
      "               '2018-08-02 20:41:25.941217', '2018-08-03 20:41:25.941217',\n",
      "               '2018-08-04 20:41:25.941217', '2018-08-05 20:41:25.941217',\n",
      "               '2018-08-06 20:41:25.941217', '2018-08-07 20:41:25.941217',\n",
      "               '2018-08-08 20:41:25.941217', '2018-08-09 20:41:25.941217',\n",
      "               '2018-08-10 20:41:25.941217', '2018-08-11 20:41:25.941217',\n",
      "               '2018-08-12 20:41:25.941217', '2018-08-13 20:41:25.941217',\n",
      "               '2018-08-14 20:41:25.941217', '2018-08-15 20:41:25.941217',\n",
      "               '2018-08-16 20:41:25.941217', '2018-08-17 20:41:25.941217',\n",
      "               '2018-08-18 20:41:25.941217', '2018-08-19 20:41:25.941217',\n",
      "               '2018-08-20 20:41:25.941217', '2018-08-21 20:41:25.941217',\n",
      "               '2018-08-22 20:41:25.941217', '2018-08-23 20:41:25.941217',\n",
      "               '2018-08-24 20:41:25.941217', '2018-08-25 20:41:25.941217',\n",
      "               '2018-08-26 20:41:25.941217', '2018-08-27 20:41:25.941217',\n",
      "               '2018-08-28 20:41:25.941217', '2018-08-29 20:41:25.941217',\n",
      "               '2018-08-30 20:41:25.941217', '2018-08-31 20:41:25.941217',\n",
      "               '2018-09-01 20:41:25.941217', '2018-09-02 20:41:25.941217',\n",
      "               '2018-09-03 20:41:25.941217', '2018-09-04 20:41:25.941217',\n",
      "               '2018-09-05 20:41:25.941217', '2018-09-06 20:41:25.941217',\n",
      "               '2018-09-07 20:41:25.941217', '2018-09-08 20:41:25.941217',\n",
      "               '2018-09-09 20:41:25.941217', '2018-09-10 20:41:25.941217',\n",
      "               '2018-09-11 20:41:25.941217', '2018-09-12 20:41:25.941217',\n",
      "               '2018-09-13 20:41:25.941217', '2018-09-14 20:41:25.941217',\n",
      "               '2018-09-15 20:41:25.941217', '2018-09-16 20:41:25.941217',\n",
      "               '2018-09-17 20:41:25.941217', '2018-09-18 20:41:25.941217'],\n",
      "              dtype='datetime64[ns]', freq='D')\n"
     ]
    }
   ],
   "source": [
    "print(best_prices)\n",
    "print(dates)\n"
   ]
  },
  {
   "cell_type": "code",
   "execution_count": 6,
   "metadata": {},
   "outputs": [],
   "source": [
    "def make_airfinder_url(origin, destination, date, num_adults=1):\n",
    "        \"\"\" Search using a simple get request including flight details.\n",
    "        :param origin: string\n",
    "        :param destination: string\n",
    "        :param date: datetime object\n",
    "        :param num_adults: number of adult passengers\n",
    "        \"\"\"\n",
    "        params = {'depLoc0': origin, \n",
    "                  'depDate0': date.strftime('%Y-%m-%d')+'T00:00',\n",
    "                  'arrLoc0': destination,\n",
    "                  'depLoc1': '',\n",
    "                  'arrLoc1': '',\n",
    "                  'adults': num_adults,\n",
    "                  'cabinClass':'1'}\n",
    "        base_url = 'https://airfinder.de/Results?'\n",
    "        url_final = base_url + urlencode(params)\n",
    "        return url_final"
   ]
  },
  {
   "cell_type": "code",
   "execution_count": 7,
   "metadata": {},
   "outputs": [],
   "source": [
    "def scrape_airfinder(origin_code,destination_code,delta_t = 7,t_max = 100):\n",
    "    \"\"\"\n",
    "    scrapes airfinder.de, searching for the cheapest flight between origin and destination. Unlike \n",
    "    scrape_skypicker, this one only searches once every delta_t days, so it doesn't search over intervals.\n",
    "    It still goes out to a total of t_max days from today\n",
    "    returns:\n",
    "        best_prices - np.array of best_prices with delta_t time resolution\n",
    "        dates - pd.Series of all t_max days considered, matched to the indices in best_prices\n",
    "    \"\"\"\n",
    "    current_date = time.strftime('%m/%d/%Y')\n",
    "    num_adults = 1   #input('number of adults traveling? ')\n",
    "    best_prices = np.zeros(t_max)\n",
    "    dates = pd.date_range(pd.datetime.today(), periods=t_max)\n",
    "    for day_idx in range(t_max):\n",
    "        if np.mod(day_idx,delta_t) != 0:\n",
    "            continue\n",
    "        url = make_airfinder_url(origin_code,destination_code,\n",
    "                                 datetime.strptime(current_date, '%m/%d/%Y')+timedelta(days=day_idx+20))\n",
    "        print(url)\n",
    "        dcap = dict(DesiredCapabilities.PHANTOMJS)\n",
    "        dcap[\"phantomjs.page.settings.userAgent\"] = (\"Mozilla/5.0 (Macintosh; Intel Mac OS X 10_12_4) AppleWebKit/537.36 (KHTML, like Gecko) Chrome/57.0.2987.98 Safari/537.36 OPR/44.0.2510.857\")\n",
    "        driver = webdriver.PhantomJS(desired_capabilities=dcap, service_args=['--ignore-ssl-errors=true'])\n",
    "        driver.get(url)\n",
    "        time.sleep(10)   ### improve this\n",
    "        airfinder_page_source = BeautifulSoup(driver.page_source, \"lxml\")\n",
    "        regex = re.compile('.*flightsolutionheader.*')\n",
    "        code_snippets = airfinder_page_source.find_all(\"div\", {\"class\" : regex})\n",
    "        prices = []\n",
    "        for code_snippet in code_snippets:\n",
    "            try:\n",
    "                price = np.float(str(code_snippet).split('<h2>')[1][3:100].split('<sup>')[0])\n",
    "                prices.append(price)\n",
    "            except:\n",
    "                pass\n",
    "        #best_prices[day_idx] = np.min(prices)\n",
    "        best_prices[day_idx:day_idx+delta_t] = np.min(prices)\n",
    "    return best_prices,dates\n",
    "\n",
    "    "
   ]
  },
  {
   "cell_type": "code",
   "execution_count": 8,
   "metadata": {},
   "outputs": [
    {
     "name": "stdout",
     "output_type": "stream",
     "text": [
      "https://airfinder.de/Results?depLoc0=LAX&depDate0=2018-07-01T00%3A00&arrLoc0=ORD&depLoc1=&arrLoc1=&adults=1&cabinClass=1\n"
     ]
    },
    {
     "name": "stderr",
     "output_type": "stream",
     "text": [
      "/anaconda3/envs/insight/lib/python3.6/site-packages/selenium/webdriver/phantomjs/webdriver.py:49: UserWarning: Selenium support for PhantomJS has been deprecated, please use headless versions of Chrome or Firefox instead\n",
      "  warnings.warn('Selenium support for PhantomJS has been deprecated, please use headless '\n"
     ]
    },
    {
     "name": "stdout",
     "output_type": "stream",
     "text": [
      "https://airfinder.de/Results?depLoc0=LAX&depDate0=2018-07-08T00%3A00&arrLoc0=ORD&depLoc1=&arrLoc1=&adults=1&cabinClass=1\n"
     ]
    },
    {
     "name": "stderr",
     "output_type": "stream",
     "text": [
      "/anaconda3/envs/insight/lib/python3.6/site-packages/selenium/webdriver/phantomjs/webdriver.py:49: UserWarning: Selenium support for PhantomJS has been deprecated, please use headless versions of Chrome or Firefox instead\n",
      "  warnings.warn('Selenium support for PhantomJS has been deprecated, please use headless '\n"
     ]
    },
    {
     "name": "stdout",
     "output_type": "stream",
     "text": [
      "https://airfinder.de/Results?depLoc0=LAX&depDate0=2018-07-15T00%3A00&arrLoc0=ORD&depLoc1=&arrLoc1=&adults=1&cabinClass=1\n"
     ]
    },
    {
     "name": "stderr",
     "output_type": "stream",
     "text": [
      "/anaconda3/envs/insight/lib/python3.6/site-packages/selenium/webdriver/phantomjs/webdriver.py:49: UserWarning: Selenium support for PhantomJS has been deprecated, please use headless versions of Chrome or Firefox instead\n",
      "  warnings.warn('Selenium support for PhantomJS has been deprecated, please use headless '\n"
     ]
    },
    {
     "name": "stdout",
     "output_type": "stream",
     "text": [
      "https://airfinder.de/Results?depLoc0=LAX&depDate0=2018-07-22T00%3A00&arrLoc0=ORD&depLoc1=&arrLoc1=&adults=1&cabinClass=1\n"
     ]
    },
    {
     "name": "stderr",
     "output_type": "stream",
     "text": [
      "/anaconda3/envs/insight/lib/python3.6/site-packages/selenium/webdriver/phantomjs/webdriver.py:49: UserWarning: Selenium support for PhantomJS has been deprecated, please use headless versions of Chrome or Firefox instead\n",
      "  warnings.warn('Selenium support for PhantomJS has been deprecated, please use headless '\n"
     ]
    },
    {
     "name": "stdout",
     "output_type": "stream",
     "text": [
      "https://airfinder.de/Results?depLoc0=LAX&depDate0=2018-07-29T00%3A00&arrLoc0=ORD&depLoc1=&arrLoc1=&adults=1&cabinClass=1\n"
     ]
    },
    {
     "name": "stderr",
     "output_type": "stream",
     "text": [
      "/anaconda3/envs/insight/lib/python3.6/site-packages/selenium/webdriver/phantomjs/webdriver.py:49: UserWarning: Selenium support for PhantomJS has been deprecated, please use headless versions of Chrome or Firefox instead\n",
      "  warnings.warn('Selenium support for PhantomJS has been deprecated, please use headless '\n"
     ]
    },
    {
     "name": "stdout",
     "output_type": "stream",
     "text": [
      "https://airfinder.de/Results?depLoc0=LAX&depDate0=2018-08-05T00%3A00&arrLoc0=ORD&depLoc1=&arrLoc1=&adults=1&cabinClass=1\n"
     ]
    },
    {
     "name": "stderr",
     "output_type": "stream",
     "text": [
      "/anaconda3/envs/insight/lib/python3.6/site-packages/selenium/webdriver/phantomjs/webdriver.py:49: UserWarning: Selenium support for PhantomJS has been deprecated, please use headless versions of Chrome or Firefox instead\n",
      "  warnings.warn('Selenium support for PhantomJS has been deprecated, please use headless '\n"
     ]
    },
    {
     "name": "stdout",
     "output_type": "stream",
     "text": [
      "https://airfinder.de/Results?depLoc0=LAX&depDate0=2018-08-12T00%3A00&arrLoc0=ORD&depLoc1=&arrLoc1=&adults=1&cabinClass=1\n"
     ]
    },
    {
     "name": "stderr",
     "output_type": "stream",
     "text": [
      "/anaconda3/envs/insight/lib/python3.6/site-packages/selenium/webdriver/phantomjs/webdriver.py:49: UserWarning: Selenium support for PhantomJS has been deprecated, please use headless versions of Chrome or Firefox instead\n",
      "  warnings.warn('Selenium support for PhantomJS has been deprecated, please use headless '\n"
     ]
    },
    {
     "name": "stdout",
     "output_type": "stream",
     "text": [
      "https://airfinder.de/Results?depLoc0=LAX&depDate0=2018-08-19T00%3A00&arrLoc0=ORD&depLoc1=&arrLoc1=&adults=1&cabinClass=1\n"
     ]
    },
    {
     "name": "stderr",
     "output_type": "stream",
     "text": [
      "/anaconda3/envs/insight/lib/python3.6/site-packages/selenium/webdriver/phantomjs/webdriver.py:49: UserWarning: Selenium support for PhantomJS has been deprecated, please use headless versions of Chrome or Firefox instead\n",
      "  warnings.warn('Selenium support for PhantomJS has been deprecated, please use headless '\n"
     ]
    },
    {
     "name": "stdout",
     "output_type": "stream",
     "text": [
      "https://airfinder.de/Results?depLoc0=LAX&depDate0=2018-08-26T00%3A00&arrLoc0=ORD&depLoc1=&arrLoc1=&adults=1&cabinClass=1\n"
     ]
    },
    {
     "name": "stderr",
     "output_type": "stream",
     "text": [
      "/anaconda3/envs/insight/lib/python3.6/site-packages/selenium/webdriver/phantomjs/webdriver.py:49: UserWarning: Selenium support for PhantomJS has been deprecated, please use headless versions of Chrome or Firefox instead\n",
      "  warnings.warn('Selenium support for PhantomJS has been deprecated, please use headless '\n"
     ]
    },
    {
     "name": "stdout",
     "output_type": "stream",
     "text": [
      "https://airfinder.de/Results?depLoc0=LAX&depDate0=2018-09-02T00%3A00&arrLoc0=ORD&depLoc1=&arrLoc1=&adults=1&cabinClass=1\n"
     ]
    },
    {
     "name": "stderr",
     "output_type": "stream",
     "text": [
      "/anaconda3/envs/insight/lib/python3.6/site-packages/selenium/webdriver/phantomjs/webdriver.py:49: UserWarning: Selenium support for PhantomJS has been deprecated, please use headless versions of Chrome or Firefox instead\n",
      "  warnings.warn('Selenium support for PhantomJS has been deprecated, please use headless '\n"
     ]
    },
    {
     "name": "stdout",
     "output_type": "stream",
     "text": [
      "https://airfinder.de/Results?depLoc0=LAX&depDate0=2018-09-09T00%3A00&arrLoc0=ORD&depLoc1=&arrLoc1=&adults=1&cabinClass=1\n"
     ]
    },
    {
     "name": "stderr",
     "output_type": "stream",
     "text": [
      "/anaconda3/envs/insight/lib/python3.6/site-packages/selenium/webdriver/phantomjs/webdriver.py:49: UserWarning: Selenium support for PhantomJS has been deprecated, please use headless versions of Chrome or Firefox instead\n",
      "  warnings.warn('Selenium support for PhantomJS has been deprecated, please use headless '\n"
     ]
    },
    {
     "name": "stdout",
     "output_type": "stream",
     "text": [
      "https://airfinder.de/Results?depLoc0=LAX&depDate0=2018-09-16T00%3A00&arrLoc0=ORD&depLoc1=&arrLoc1=&adults=1&cabinClass=1\n"
     ]
    },
    {
     "name": "stderr",
     "output_type": "stream",
     "text": [
      "/anaconda3/envs/insight/lib/python3.6/site-packages/selenium/webdriver/phantomjs/webdriver.py:49: UserWarning: Selenium support for PhantomJS has been deprecated, please use headless versions of Chrome or Firefox instead\n",
      "  warnings.warn('Selenium support for PhantomJS has been deprecated, please use headless '\n"
     ]
    },
    {
     "name": "stdout",
     "output_type": "stream",
     "text": [
      "https://airfinder.de/Results?depLoc0=LAX&depDate0=2018-09-23T00%3A00&arrLoc0=ORD&depLoc1=&arrLoc1=&adults=1&cabinClass=1\n"
     ]
    },
    {
     "name": "stderr",
     "output_type": "stream",
     "text": [
      "/anaconda3/envs/insight/lib/python3.6/site-packages/selenium/webdriver/phantomjs/webdriver.py:49: UserWarning: Selenium support for PhantomJS has been deprecated, please use headless versions of Chrome or Firefox instead\n",
      "  warnings.warn('Selenium support for PhantomJS has been deprecated, please use headless '\n"
     ]
    },
    {
     "name": "stdout",
     "output_type": "stream",
     "text": [
      "https://airfinder.de/Results?depLoc0=LAX&depDate0=2018-09-30T00%3A00&arrLoc0=ORD&depLoc1=&arrLoc1=&adults=1&cabinClass=1\n"
     ]
    },
    {
     "name": "stderr",
     "output_type": "stream",
     "text": [
      "/anaconda3/envs/insight/lib/python3.6/site-packages/selenium/webdriver/phantomjs/webdriver.py:49: UserWarning: Selenium support for PhantomJS has been deprecated, please use headless versions of Chrome or Firefox instead\n",
      "  warnings.warn('Selenium support for PhantomJS has been deprecated, please use headless '\n"
     ]
    },
    {
     "name": "stdout",
     "output_type": "stream",
     "text": [
      "https://airfinder.de/Results?depLoc0=LAX&depDate0=2018-10-07T00%3A00&arrLoc0=ORD&depLoc1=&arrLoc1=&adults=1&cabinClass=1\n"
     ]
    },
    {
     "name": "stderr",
     "output_type": "stream",
     "text": [
      "/anaconda3/envs/insight/lib/python3.6/site-packages/selenium/webdriver/phantomjs/webdriver.py:49: UserWarning: Selenium support for PhantomJS has been deprecated, please use headless versions of Chrome or Firefox instead\n",
      "  warnings.warn('Selenium support for PhantomJS has been deprecated, please use headless '\n"
     ]
    }
   ],
   "source": [
    "best_prices,dates = scrape_airfinder('LAX','ORD',delta_t = 7,t_max = 100)\n",
    "    "
   ]
  },
  {
   "cell_type": "code",
   "execution_count": 9,
   "metadata": {},
   "outputs": [
    {
     "name": "stdout",
     "output_type": "stream",
     "text": [
      "[ 130.04  130.04  130.04  130.04  130.04  130.04  130.04  147.87  147.87\n",
      "  147.87  147.87  147.87  147.87  147.87  139.07  139.07  139.07  139.07\n",
      "  139.07  139.07  139.07  147.87  147.87  147.87  147.87  147.87  147.87\n",
      "  147.87  139.07  139.07  139.07  139.07  139.07  139.07  139.07  139.07\n",
      "  139.07  139.07  139.07  139.07  139.07  139.07  139.07  139.07  139.07\n",
      "  139.07  139.07  139.07  139.07  113.12  113.12  113.12  113.12  113.12\n",
      "  113.12  113.12  113.12  113.12  113.12  113.12  113.12  113.12  113.12\n",
      "   96.6    96.6    96.6    96.6    96.6    96.6    96.6   113.12  113.12\n",
      "  113.12  113.12  113.12  113.12  113.12  113.12  113.12  113.12  113.12\n",
      "  113.12  113.12  113.12  113.12  113.12  113.12  113.12  113.12  113.12\n",
      "  113.12  113.12  113.12  113.12  113.12  113.12  113.12  113.12  125.53\n",
      "  125.53]\n",
      "DatetimeIndex(['2018-06-11 20:41:43.510394', '2018-06-12 20:41:43.510394',\n",
      "               '2018-06-13 20:41:43.510394', '2018-06-14 20:41:43.510394',\n",
      "               '2018-06-15 20:41:43.510394', '2018-06-16 20:41:43.510394',\n",
      "               '2018-06-17 20:41:43.510394', '2018-06-18 20:41:43.510394',\n",
      "               '2018-06-19 20:41:43.510394', '2018-06-20 20:41:43.510394',\n",
      "               '2018-06-21 20:41:43.510394', '2018-06-22 20:41:43.510394',\n",
      "               '2018-06-23 20:41:43.510394', '2018-06-24 20:41:43.510394',\n",
      "               '2018-06-25 20:41:43.510394', '2018-06-26 20:41:43.510394',\n",
      "               '2018-06-27 20:41:43.510394', '2018-06-28 20:41:43.510394',\n",
      "               '2018-06-29 20:41:43.510394', '2018-06-30 20:41:43.510394',\n",
      "               '2018-07-01 20:41:43.510394', '2018-07-02 20:41:43.510394',\n",
      "               '2018-07-03 20:41:43.510394', '2018-07-04 20:41:43.510394',\n",
      "               '2018-07-05 20:41:43.510394', '2018-07-06 20:41:43.510394',\n",
      "               '2018-07-07 20:41:43.510394', '2018-07-08 20:41:43.510394',\n",
      "               '2018-07-09 20:41:43.510394', '2018-07-10 20:41:43.510394',\n",
      "               '2018-07-11 20:41:43.510394', '2018-07-12 20:41:43.510394',\n",
      "               '2018-07-13 20:41:43.510394', '2018-07-14 20:41:43.510394',\n",
      "               '2018-07-15 20:41:43.510394', '2018-07-16 20:41:43.510394',\n",
      "               '2018-07-17 20:41:43.510394', '2018-07-18 20:41:43.510394',\n",
      "               '2018-07-19 20:41:43.510394', '2018-07-20 20:41:43.510394',\n",
      "               '2018-07-21 20:41:43.510394', '2018-07-22 20:41:43.510394',\n",
      "               '2018-07-23 20:41:43.510394', '2018-07-24 20:41:43.510394',\n",
      "               '2018-07-25 20:41:43.510394', '2018-07-26 20:41:43.510394',\n",
      "               '2018-07-27 20:41:43.510394', '2018-07-28 20:41:43.510394',\n",
      "               '2018-07-29 20:41:43.510394', '2018-07-30 20:41:43.510394',\n",
      "               '2018-07-31 20:41:43.510394', '2018-08-01 20:41:43.510394',\n",
      "               '2018-08-02 20:41:43.510394', '2018-08-03 20:41:43.510394',\n",
      "               '2018-08-04 20:41:43.510394', '2018-08-05 20:41:43.510394',\n",
      "               '2018-08-06 20:41:43.510394', '2018-08-07 20:41:43.510394',\n",
      "               '2018-08-08 20:41:43.510394', '2018-08-09 20:41:43.510394',\n",
      "               '2018-08-10 20:41:43.510394', '2018-08-11 20:41:43.510394',\n",
      "               '2018-08-12 20:41:43.510394', '2018-08-13 20:41:43.510394',\n",
      "               '2018-08-14 20:41:43.510394', '2018-08-15 20:41:43.510394',\n",
      "               '2018-08-16 20:41:43.510394', '2018-08-17 20:41:43.510394',\n",
      "               '2018-08-18 20:41:43.510394', '2018-08-19 20:41:43.510394',\n",
      "               '2018-08-20 20:41:43.510394', '2018-08-21 20:41:43.510394',\n",
      "               '2018-08-22 20:41:43.510394', '2018-08-23 20:41:43.510394',\n",
      "               '2018-08-24 20:41:43.510394', '2018-08-25 20:41:43.510394',\n",
      "               '2018-08-26 20:41:43.510394', '2018-08-27 20:41:43.510394',\n",
      "               '2018-08-28 20:41:43.510394', '2018-08-29 20:41:43.510394',\n",
      "               '2018-08-30 20:41:43.510394', '2018-08-31 20:41:43.510394',\n",
      "               '2018-09-01 20:41:43.510394', '2018-09-02 20:41:43.510394',\n",
      "               '2018-09-03 20:41:43.510394', '2018-09-04 20:41:43.510394',\n",
      "               '2018-09-05 20:41:43.510394', '2018-09-06 20:41:43.510394',\n",
      "               '2018-09-07 20:41:43.510394', '2018-09-08 20:41:43.510394',\n",
      "               '2018-09-09 20:41:43.510394', '2018-09-10 20:41:43.510394',\n",
      "               '2018-09-11 20:41:43.510394', '2018-09-12 20:41:43.510394',\n",
      "               '2018-09-13 20:41:43.510394', '2018-09-14 20:41:43.510394',\n",
      "               '2018-09-15 20:41:43.510394', '2018-09-16 20:41:43.510394',\n",
      "               '2018-09-17 20:41:43.510394', '2018-09-18 20:41:43.510394'],\n",
      "              dtype='datetime64[ns]', freq='D')\n"
     ]
    }
   ],
   "source": [
    "print(best_prices)\n",
    "print(dates)\n",
    "\n"
   ]
  },
  {
   "cell_type": "code",
   "execution_count": null,
   "metadata": {},
   "outputs": [],
   "source": []
  }
 ],
 "metadata": {
  "kernelspec": {
   "display_name": "Python 3",
   "language": "python",
   "name": "python3"
  },
  "language_info": {
   "codemirror_mode": {
    "name": "ipython",
    "version": 3
   },
   "file_extension": ".py",
   "mimetype": "text/x-python",
   "name": "python",
   "nbconvert_exporter": "python",
   "pygments_lexer": "ipython3",
   "version": "3.6.5"
  }
 },
 "nbformat": 4,
 "nbformat_minor": 2
}
